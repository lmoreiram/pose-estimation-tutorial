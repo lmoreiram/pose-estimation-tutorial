{
 "cells": [
  {
   "cell_type": "code",
   "execution_count": null,
   "metadata": {},
   "outputs": [],
   "source": [
    "# import libraries\n",
    "import cv2\n",
    "import mediapipe as mp\n",
    "import numpy as np \n",
    "\n",
    "# Import MediaPipe Drawing module\n",
    "mp_drawing = mp.solutions.drawing_utils\n",
    "# Import MediaPipe Pose module\n",
    "mp_pose = mp.solutions.pose\n",
    "\n",
    "from angle_calculator import calculate_angle\n",
    "from pose_utils import draw_keypoints_and_connections"
   ]
  },
  {
   "cell_type": "code",
   "execution_count": null,
   "metadata": {},
   "outputs": [],
   "source": [
    "cap = cv2.VideoCapture('video_sample.avi')\n",
    "\n",
    "hip_angle_over_time = []\n",
    "knee_angle_over_time = []\n",
    "# Define the codec and create VideoWriter object\n",
    "\n",
    "fourcc = cv2.VideoWriter_fourcc(*'XVID')\n",
    "out = cv2.VideoWriter('output_video.avi', fourcc, 20.0, (int(cap.get(3)), int(cap.get(4))))\n",
    "\n",
    "\n",
    "# Setup mediapipe instance\n",
    "with mp_pose.Pose(min_detection_confidence=0.5, min_tracking_confidence=0.5, static_image_mode=False, model_complexity=2) as pose:\n",
    "    while cap.isOpened():\n",
    "        \n",
    "        ret, frame = cap.read()\n",
    "        if ret:\n",
    "            frame_height, frame_width, _ = frame.shape\n",
    "        else:\n",
    "            break\n",
    "        \n",
    "        # Recolor image to RGB\n",
    "        image = cv2.cvtColor(frame, cv2.COLOR_BGR2RGB)\n",
    "        image.flags.writeable = False\n",
    "      \n",
    "        # Make detection\n",
    "        results = pose.process(image)\n",
    "    \n",
    "        # Recolor back to BGR\n",
    "        image.flags.writeable = True\n",
    "        image = cv2.cvtColor(image, cv2.COLOR_RGB2BGR)\n",
    "        \n",
    "         # Extract landmarks\n",
    "        try:\n",
    "            landmarks = results.pose_landmarks.landmark\n",
    "        except:\n",
    "            pass\n",
    "    \n",
    "        # Call the function to draw keypoints and connections\n",
    "        draw_keypoints_and_connections(image, landmarks, 'right')  # Use 'right' or 'left' as needed\n",
    "\n",
    "        #### ADICIONE CÓDIGO PARA EXTRAIR OS KEYPOINTS RELAVANTES, CALCULAR OS VETORES RELAVANTES PARA A CALCULAR O ÂNGULO DO QUADRIL E DO JOELHO PARA A MARCHA. #####\n",
    "        #### PARA CADA FRAME FAÇA UM APPEND DOS VALORES DOS ÂNGULOS NAS LISTAS HIP_ANGLE_OVER_TIME E kNEE_ANGLE_OVER_TIME #####\n",
    "\n",
    "        \n",
    "        # write frame into the file 'output_video.avi'\n",
    "        out.write(image)\n",
    "        # Show the image\n",
    "        cv2.imshow('Mediapipe Feed', image)\n",
    "\n",
    "        if cv2.waitKey(10) & 0xFF == ord('q'):\n",
    "            break\n",
    "\n",
    "cap.release()\n",
    "cv2.destroyAllWindows()"
   ]
  },
  {
   "cell_type": "code",
   "execution_count": null,
   "metadata": {},
   "outputs": [],
   "source": [
    "# Plots hip angle over time\n",
    "plt.figure()\n",
    "plt.plot(hip_angle_over_time)\n",
    "plt.title('Hip Angle Over Time')\n",
    "plt.xlabel('Frame')\n",
    "plt.ylabel('Angle (degrees)')\n",
    "plt.show()"
   ]
  },
  {
   "cell_type": "code",
   "execution_count": null,
   "metadata": {},
   "outputs": [],
   "source": [
    "# Plots knee angle over time\n",
    "plt.figure()\n",
    "plt.plot(knee_angle_over_time)\n",
    "plt.title('Knee Angle Over Time')\n",
    "plt.xlabel('Frame')\n",
    "plt.ylabel('Angle (degrees)')\n",
    "plt.show()"
   ]
  }
 ],
 "metadata": {
  "language_info": {
   "name": "python"
  }
 },
 "nbformat": 4,
 "nbformat_minor": 2
}
